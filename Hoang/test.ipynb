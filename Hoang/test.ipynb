{
 "cells": [
  {
   "cell_type": "code",
   "execution_count": null,
   "id": "95475272",
   "metadata": {
    "vscode": {
     "languageId": "plaintext"
    }
   },
   "outputs": [],
   "source": [
    "# test_basic_information_conversion.ipynb\n",
    "\n",
    "import pandas as pd\n",
    "import json\n",
    "import io\n",
    "\n",
    "# Mock CSV\n",
    "csv_content = \"\"\"\n",
    "order_id,product_name,part_type_name\n",
    "123,Book,A4\n",
    "124,Notebook,A5\n",
    "\"\"\"\n",
    "\n",
    "# Mock mapping\n",
    "mapping_json = {\n",
    "    \"order_id\": {\"csvColumn\": \"order_id\", \"analysis\": \"true\"},\n",
    "    \"product_name\": {\"csvColumn\": \"product_name\", \"analysis\": \"true\"},\n",
    "    \"part_type_name\": {\"csvColumn\": \"part_type_name\", \"analysis\": \"true\"}\n",
    "}\n",
    "\n",
    "# Giống đoạn trong Lambda\n",
    "df = pd.read_csv(io.StringIO(csv_content), dtype=str).fillna(\"\")\n",
    "\n",
    "mapped_data = []\n",
    "for _, row in df.iterrows():\n",
    "    mapped_row = {}\n",
    "    for xml_key, mapping_info in mapping_json.items():\n",
    "        csv_column = mapping_info.get(\"csvColumn\")\n",
    "        analysis_flag = mapping_info.get(\"analysis\", \"true\").lower()\n",
    "        if analysis_flag == \"false\":\n",
    "            continue\n",
    "        mapped_row[xml_key] = row.get(csv_column, \"\")\n",
    "    mapped_data.append(mapped_row)\n",
    "\n",
    "#  Kết quả\n",
    "print(\"Mapped Data:\")\n",
    "print(mapped_data)\n"
   ]
  }
 ],
 "metadata": {
  "language_info": {
   "name": "python"
  }
 },
 "nbformat": 4,
 "nbformat_minor": 5
}
