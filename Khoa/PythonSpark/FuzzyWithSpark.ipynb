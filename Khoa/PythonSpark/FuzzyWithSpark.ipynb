{
 "cells": [
  {
   "cell_type": "code",
   "execution_count": 1,
   "id": "587102f5",
   "metadata": {},
   "outputs": [],
   "source": [
    "import findspark\n",
    "findspark.init()"
   ]
  },
  {
   "cell_type": "code",
   "execution_count": 2,
   "id": "44fbf39b",
   "metadata": {},
   "outputs": [],
   "source": [
    "import os\n",
    "import pyspark\n",
    "from pyspark.sql import SparkSession\n",
    "from pyspark.sql import functions as F\n",
    "from pyspark.sql.types import StringType, StructType, StructField, IntegerType, FloatType, DateType\n",
    "\n",
    "from fuzzywuzzy import fuzz\n",
    "from fuzzywuzzy import process\n",
    "\n",
    "import unicodedata\n",
    "import re"
   ]
  },
  {
   "cell_type": "code",
   "execution_count": 11,
   "id": "3b0cac52",
   "metadata": {},
   "outputs": [
    {
     "name": "stdout",
     "output_type": "stream",
     "text": [
      "+--------+-------------------+-------------------------------------------------------------+------------------------------------------------------------------------------------------+\n",
      "|order_id|order_customer_name|product_name                                                 |part_type_name                                                                            |\n",
      "+--------+-------------------+-------------------------------------------------------------+------------------------------------------------------------------------------------------+\n",
      "|2200006 |得意先_1           |A　2023年3月号 定期演奏会                                    |['本文1']                                                                                 |\n",
      "|2107551 |得意先_7           |アーティストリスト2022年                                     |['本文1', '本文1', '本文2', '本文2', '表紙1', '表紙1']                                    |\n",
      "|2200898 |得意先_8           |ミュージアムリーフレット                                     |['本文']                                                                                  |\n",
      "|2202767 |得意先_148         |A小学校　2024学校案内パンフレット                            |['本文1', '本文2', '表紙1', '表紙2']                                                      |\n",
      "|2203087 |得意先_14          |A社統合報告書2022（英文）                                    |['本文1', '表紙1']                                                                        |\n",
      "|2203136 |得意先_91          |Aコンビニ　陳列単品カード2023春夏（通常・酒販）【プロパー分】|['本文1']                                                                                 |\n",
      "|2203259 |得意先_17          |ブリスターパック台紙テストプリント                           |['台紙', '台紙２']                                                                        |\n",
      "|2203642 |得意先_23          |2023年度用パンフレット                                       |['本文1', '本文1', '本文2', '本文2', '表紙1', '表紙1']                                    |\n",
      "|2203843 |得意先_27          |2023 母の日用  ティーチケットセット                          |['チケット', 'チケット・台紙', 'チケット・台紙', '台紙']                                  |\n",
      "|2203878 |得意先_31          |プロジェクトA横浜2023　ガイドブック                          |['本文1', '本文2', '表紙1', '表紙1']                                                      |\n",
      "|2203882 |得意先_173         |T社　No.402(1月末号)                                         |['本文②', '本文③', '表紙+本文①']                                                          |\n",
      "|2203933 |得意先_35          |M様　M総合カタログ2023                                       |['表紙1']                                                                                 |\n",
      "|2203938 |得意先_174         |「hogehoge1111」   奨学金リーフレット②                       |['本文']                                                                                  |\n",
      "|2203941 |得意先_39          |会報 No.328                                                  |['本文', '本文', '表紙']                                                                  |\n",
      "|2203992 |得意先_179         |123456  H市文化財緊急調査報告書22                            |['本文1', '本文1', '本文1', '本文2', '本文2', '本文2', '本文3', '本文3', '本文4', '表紙1']|\n",
      "|2204024 |得意先_50          |T社車ポスター　A1・A4                                        |['本文1']                                                                                 |\n",
      "|2204043 |得意先_51          |K商品製品カタログ【修正増刷】                                |['部品1']                                                                                 |\n",
      "|2204088 |得意先_53          |パン屋P\\t2023年2月分                                         |['週次', '週次']                                                                          |\n",
      "|2204096 |得意先_55          |K社様　商品A　プライスリスト2023                             |['本文1', '本文2']                                                                        |\n",
      "|2204124 |得意先_59          |（仮）フォルダ\\t\\t                                           |['ペラ', 'ペラ', '冊子本文', '冊子表紙']                                                  |\n",
      "+--------+-------------------+-------------------------------------------------------------+------------------------------------------------------------------------------------------+\n",
      "only showing top 20 rows\n",
      "\n"
     ]
    }
   ],
   "source": [
    "path = os.path.join(os.getcwd(), \"..\", \"Data\", \"output_search_DB_embedded.csv\")\n",
    "spark = SparkSession.builder \\\n",
    "    .appName(\"Fuzzy Matching\") \\\n",
    "    .config(\"spark.driver.memory\", \"4g\") \\\n",
    "    .config(\"spark.executor.memory\", \"2g\") \\\n",
    "    .config(\"spark.executor.cores\", \"2\") \\\n",
    "    .config(\"spark.executor.instances\", \"2\") \\\n",
    "    .getOrCreate()\n",
    "\n",
    "df = spark.read.csv(path, header=True, inferSchema=True)\n",
    "df = df.drop(\"embedding\", \"text\")\n",
    "df.show(truncate=False)"
   ]
  },
  {
   "cell_type": "code",
   "execution_count": 12,
   "id": "af25f263",
   "metadata": {},
   "outputs": [],
   "source": [
    "spark.conf.set(\"spark.sql.execution.arrow.pyspark.enabled\", \"true\")"
   ]
  },
  {
   "cell_type": "code",
   "execution_count": 13,
   "id": "39100cd1",
   "metadata": {},
   "outputs": [
    {
     "data": {
      "text/html": [
       "\n",
       "            <div>\n",
       "                <p><b>SparkSession - in-memory</b></p>\n",
       "                \n",
       "        <div>\n",
       "            <p><b>SparkContext</b></p>\n",
       "\n",
       "            <p><a href=\"http://172.18.14.40:4040\">Spark UI</a></p>\n",
       "\n",
       "            <dl>\n",
       "              <dt>Version</dt>\n",
       "                <dd><code>v3.5.5</code></dd>\n",
       "              <dt>Master</dt>\n",
       "                <dd><code>local[*]</code></dd>\n",
       "              <dt>AppName</dt>\n",
       "                <dd><code>Fuzzy Matching</code></dd>\n",
       "            </dl>\n",
       "        </div>\n",
       "        \n",
       "            </div>\n",
       "        "
      ],
      "text/plain": [
       "<pyspark.sql.session.SparkSession at 0x1a5ffcde950>"
      ]
     },
     "execution_count": 13,
     "metadata": {},
     "output_type": "execute_result"
    }
   ],
   "source": [
    "spark"
   ]
  },
  {
   "cell_type": "code",
   "execution_count": 14,
   "id": "a2cd6678",
   "metadata": {},
   "outputs": [],
   "source": [
    "def normalize(text):\n",
    "    text = unicodedata.normalize(\"NFKC\", str(text))\n",
    "    text = re.sub(r'\\s+', '', text)\n",
    "    return text"
   ]
  },
  {
   "cell_type": "code",
   "execution_count": null,
   "id": "22319c1d",
   "metadata": {},
   "outputs": [],
   "source": [
    "def fuzzy_match(input_text, df, flag=False, top_k=10, scorer='ratio'):\n",
    "\n",
    "    mapping = {\n",
    "        'ratio': fuzz.ratio,\n",
    "        'partial_ratio': fuzz.partial_ratio,\n",
    "        'token_sort_ratio': fuzz.token_sort_ratio,\n",
    "        'token_set_ratio': fuzz.token_set_ratio,\n",
    "    }\n",
    "\n",
    "    if scorer not in mapping:\n",
    "        raise ValueError(f\"Scorer '{scorer}' is not supported. Choose from {list(mapping.keys())}.\")\n",
    "    else:\n",
    "        scorer_func = mapping[scorer]\n",
    "\n",
    "    def fuzzy_score(input_text, current_text):\n",
    "        if input_text is None or current_text is None:\n",
    "            return 0\n",
    "        try:\n",
    "            input_proc = normalize(input_text) if flag else input_text\n",
    "            current_proc = normalize(current_text) if flag else current_text\n",
    "            return scorer_func(input_proc, current_proc)\n",
    "        except Exception as e:\n",
    "            return 0\n",
    "    \n",
    "    fuzzy_score_udf = F.udf(fuzzy_score, IntegerType(), useArrow = True)\n",
    "\n",
    "    matches = []\n",
    "    for col in df.columns:\n",
    "        if col in [\"order_id\"]:\n",
    "            continue\n",
    "\n",
    "        df_with_score = df.withColumn(\"score\", fuzzy_score_udf(F.lit(input_text), F.col(col))) \n",
    "        temp_df = df_with_score.select(\n",
    "            'order_id',\n",
    "            'order_customer_name',\n",
    "            'product_name',\n",
    "            'part_type_name',\n",
    "            F.lit(col).alias(\"matched_column\"),\n",
    "            'score'\n",
    "        )\n",
    "\n",
    "        matches.append(temp_df)\n",
    "\n",
    "    result_df = matches[0]\n",
    "    for additional_df in matches[1:]:\n",
    "        result_df = result_df.union(additional_df)\n",
    "\n",
    "    result_df = result_df.orderBy(F.desc('score')).limit(top_k)\n",
    "    \n",
    "    return result_df"
   ]
  },
  {
   "cell_type": "code",
   "execution_count": 38,
   "id": "bcc5ea93",
   "metadata": {},
   "outputs": [],
   "source": [
    "input_text = \"ーセプル\"\n",
    "spark_result_df = fuzzy_match(input_text, df, flag=False, top_k=90, scorer='ratio')"
   ]
  },
  {
   "cell_type": "code",
   "execution_count": 41,
   "id": "62d9f7da",
   "metadata": {},
   "outputs": [
    {
     "name": "stdout",
     "output_type": "stream",
     "text": [
      "+--------+-------------------+-----------------------------------------------+--------------------------------------------------+--------------+-----+\n",
      "|order_id|order_customer_name|product_name                                   |part_type_name                                    |matched_column|score|\n",
      "+--------+-------------------+-----------------------------------------------+--------------------------------------------------+--------------+-----+\n",
      "|2204644 |得意先_148         |T大学第一小学校　2024学校案内　ポスター＆チラシ|['ポスター&チラシ']                               |part_type_name|12   |\n",
      "|2204248 |得意先_200         |B　POP                                         |['Ne-tak', 'しらおい上質86.5kg', 'クリスパー0.25']|part_type_name|5    |\n",
      "|2204784 |得意先_200         |D　8週（2/21付）　POP                          |['Ne-tak', 'しらおい上質86.5kg', 'クリスパー0.25']|part_type_name|5    |\n",
      "|2204785 |得意先_200         |D　9週（2/28付）　POP                          |['Ne-tak', 'しらおい上質86.5kg', 'クリスパー0.25']|part_type_name|5    |\n",
      "|2204787 |得意先_200         |D　10週（3/7付）　POP                          |['Ne-tak', 'しらおい上質86.5kg', 'クリスパー0.25']|part_type_name|5    |\n",
      "+--------+-------------------+-----------------------------------------------+--------------------------------------------------+--------------+-----+\n",
      "\n"
     ]
    }
   ],
   "source": [
    "spark_result_df.filter(F.col(\"matched_column\").contains(\"part_type_name\")).show(truncate=False)"
   ]
  },
  {
   "cell_type": "code",
   "execution_count": 46,
   "id": "e4b1d661",
   "metadata": {},
   "outputs": [
    {
     "name": "stdout",
     "output_type": "stream",
     "text": [
      "+--------+-------------------+-----------------------------------------------+--------------------------------------------------+--------------+-----+\n",
      "|order_id|order_customer_name|product_name                                   |part_type_name                                    |matched_column|score|\n",
      "+--------+-------------------+-----------------------------------------------+--------------------------------------------------+--------------+-----+\n",
      "|2204644 |得意先_148         |T大学第一小学校　2024学校案内　ポスター＆チラシ|['ポスター&チラシ']                               |part_type_name|12   |\n",
      "|2204248 |得意先_200         |B　POP                                         |['Ne-tak', 'しらおい上質86.5kg', 'クリスパー0.25']|part_type_name|5    |\n",
      "|2204784 |得意先_200         |D　8週（2/21付）　POP                          |['Ne-tak', 'しらおい上質86.5kg', 'クリスパー0.25']|part_type_name|5    |\n",
      "|2204785 |得意先_200         |D　9週（2/28付）　POP                          |['Ne-tak', 'しらおい上質86.5kg', 'クリスパー0.25']|part_type_name|5    |\n",
      "|2204787 |得意先_200         |D　10週（3/7付）　POP                          |['Ne-tak', 'しらおい上質86.5kg', 'クリスパー0.25']|part_type_name|5    |\n",
      "+--------+-------------------+-----------------------------------------------+--------------------------------------------------+--------------+-----+\n",
      "\n"
     ]
    }
   ],
   "source": [
    "spark_result_df.select('*').where(F.col(\"matched_column\").contains(\"part_type_name\")).distinct().show(truncate=False)"
   ]
  },
  {
   "cell_type": "code",
   "execution_count": 49,
   "id": "146d5d5e",
   "metadata": {},
   "outputs": [
    {
     "name": "stdout",
     "output_type": "stream",
     "text": [
      "+--------+-------------------+---------------------+--------------------------------------------------+-------------------+-----+\n",
      "|order_id|order_customer_name|product_name         |part_type_name                                    |matched_column     |score|\n",
      "+--------+-------------------+---------------------+--------------------------------------------------+-------------------+-----+\n",
      "|2204248 |得意先_200         |B　POP               |['Ne-tak', 'しらおい上質86.5kg', 'クリスパー0.25']|part_type_name     |5    |\n",
      "|2204784 |得意先_200         |D　8週（2/21付）　POP|['Ne-tak', 'しらおい上質86.5kg', 'クリスパー0.25']|part_type_name     |5    |\n",
      "|2204785 |得意先_200         |D　9週（2/28付）　POP|['Ne-tak', 'しらおい上質86.5kg', 'クリスパー0.25']|part_type_name     |5    |\n",
      "|2204787 |得意先_200         |D　10週（3/7付）　POP|['Ne-tak', 'しらおい上質86.5kg', 'クリスパー0.25']|part_type_name     |5    |\n",
      "|2204248 |得意先_200         |B　POP               |['Ne-tak', 'しらおい上質86.5kg', 'クリスパー0.25']|order_customer_name|0    |\n",
      "+--------+-------------------+---------------------+--------------------------------------------------+-------------------+-----+\n",
      "\n"
     ]
    }
   ],
   "source": [
    "spark_result_df.where(spark_result_df.part_type_name.like(\"%クリスパ%\")).show(truncate=False)"
   ]
  }
 ],
 "metadata": {
  "kernelspec": {
   "display_name": ".sparkproject3118",
   "language": "python",
   "name": "python3"
  },
  "language_info": {
   "codemirror_mode": {
    "name": "ipython",
    "version": 3
   },
   "file_extension": ".py",
   "mimetype": "text/x-python",
   "name": "python",
   "nbconvert_exporter": "python",
   "pygments_lexer": "ipython3",
   "version": "3.11.8"
  }
 },
 "nbformat": 4,
 "nbformat_minor": 5
}
