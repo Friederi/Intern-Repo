{
 "cells": [
  {
   "cell_type": "code",
   "execution_count": 1,
   "metadata": {},
   "outputs": [
    {
     "name": "stderr",
     "output_type": "stream",
     "text": [
      "c:\\Users\\nkhoa2\\Desktop\\Github\\Fuzzywuzzy-VectorDB\\Fuzzywuzzy\\Lib\\site-packages\\tqdm\\auto.py:21: TqdmWarning: IProgress not found. Please update jupyter and ipywidgets. See https://ipywidgets.readthedocs.io/en/stable/user_install.html\n",
      "  from .autonotebook import tqdm as notebook_tqdm\n"
     ]
    }
   ],
   "source": [
    "import pandas as pd\n",
    "from sentence_transformers import SentenceTransformer\n",
    "import os\n",
    "from timeit import default_timer as timer\n",
    "from nano_vectordb import NanoVectorDB\n",
    "import psutil\n",
    "import numpy as np\n",
    "import math"
   ]
  },
  {
   "cell_type": "code",
   "execution_count": 2,
   "metadata": {},
   "outputs": [
    {
     "data": {
      "text/html": [
       "<div>\n",
       "<style scoped>\n",
       "    .dataframe tbody tr th:only-of-type {\n",
       "        vertical-align: middle;\n",
       "    }\n",
       "\n",
       "    .dataframe tbody tr th {\n",
       "        vertical-align: top;\n",
       "    }\n",
       "\n",
       "    .dataframe thead th {\n",
       "        text-align: right;\n",
       "    }\n",
       "</style>\n",
       "<table border=\"1\" class=\"dataframe\">\n",
       "  <thead>\n",
       "    <tr style=\"text-align: right;\">\n",
       "      <th></th>\n",
       "      <th>order_id</th>\n",
       "      <th>order_customer_name</th>\n",
       "      <th>product_name</th>\n",
       "      <th>part_type_name</th>\n",
       "      <th>product_postpress_type_name</th>\n",
       "    </tr>\n",
       "  </thead>\n",
       "  <tbody>\n",
       "    <tr>\n",
       "      <th>0</th>\n",
       "      <td>2200006</td>\n",
       "      <td>得意先_1</td>\n",
       "      <td>A　2023年3月号 定期演奏会</td>\n",
       "      <td>['本文1']</td>\n",
       "      <td>NaN</td>\n",
       "    </tr>\n",
       "    <tr>\n",
       "      <th>1</th>\n",
       "      <td>2107551</td>\n",
       "      <td>得意先_7</td>\n",
       "      <td>アーティストリスト2022年</td>\n",
       "      <td>['本文1', '本文1', '本文2', '本文2', '表紙1', '表紙1']</td>\n",
       "      <td>NaN</td>\n",
       "    </tr>\n",
       "    <tr>\n",
       "      <th>2</th>\n",
       "      <td>2200898</td>\n",
       "      <td>得意先_8</td>\n",
       "      <td>ミュージアムリーフレット</td>\n",
       "      <td>['本文']</td>\n",
       "      <td>NaN</td>\n",
       "    </tr>\n",
       "    <tr>\n",
       "      <th>3</th>\n",
       "      <td>2202767</td>\n",
       "      <td>得意先_148</td>\n",
       "      <td>A小学校　2024学校案内パンフレット</td>\n",
       "      <td>['本文1', '本文2', '表紙1', '表紙2']</td>\n",
       "      <td>NaN</td>\n",
       "    </tr>\n",
       "    <tr>\n",
       "      <th>4</th>\n",
       "      <td>2203087</td>\n",
       "      <td>得意先_14</td>\n",
       "      <td>A社統合報告書2022（英文）</td>\n",
       "      <td>['本文1', '表紙1']</td>\n",
       "      <td>NaN</td>\n",
       "    </tr>\n",
       "  </tbody>\n",
       "</table>\n",
       "</div>"
      ],
      "text/plain": [
       "   order_id order_customer_name         product_name  \\\n",
       "0   2200006               得意先_1     A　2023年3月号 定期演奏会   \n",
       "1   2107551               得意先_7       アーティストリスト2022年   \n",
       "2   2200898               得意先_8         ミュージアムリーフレット   \n",
       "3   2202767             得意先_148  A小学校　2024学校案内パンフレット   \n",
       "4   2203087              得意先_14      A社統合報告書2022（英文）   \n",
       "\n",
       "                               part_type_name  product_postpress_type_name  \n",
       "0                                     ['本文1']                          NaN  \n",
       "1  ['本文1', '本文1', '本文2', '本文2', '表紙1', '表紙1']                          NaN  \n",
       "2                                      ['本文']                          NaN  \n",
       "3                ['本文1', '本文2', '表紙1', '表紙2']                          NaN  \n",
       "4                              ['本文1', '表紙1']                          NaN  "
      ]
     },
     "execution_count": 2,
     "metadata": {},
     "output_type": "execute_result"
    }
   ],
   "source": [
    "path = os.path.join(os.getcwd(), 'Data', 'input_search_DB.csv')\n",
    "df = pd.read_csv(path, sep=',', encoding='utf-8')\n",
    "df.head()"
   ]
  },
  {
   "cell_type": "code",
   "execution_count": 3,
   "metadata": {},
   "outputs": [
    {
     "data": {
      "text/html": [
       "<div>\n",
       "<style scoped>\n",
       "    .dataframe tbody tr th:only-of-type {\n",
       "        vertical-align: middle;\n",
       "    }\n",
       "\n",
       "    .dataframe tbody tr th {\n",
       "        vertical-align: top;\n",
       "    }\n",
       "\n",
       "    .dataframe thead th {\n",
       "        text-align: right;\n",
       "    }\n",
       "</style>\n",
       "<table border=\"1\" class=\"dataframe\">\n",
       "  <thead>\n",
       "    <tr style=\"text-align: right;\">\n",
       "      <th></th>\n",
       "      <th>order_id</th>\n",
       "      <th>order_customer_name</th>\n",
       "      <th>product_name</th>\n",
       "      <th>part_type_name</th>\n",
       "    </tr>\n",
       "  </thead>\n",
       "  <tbody>\n",
       "    <tr>\n",
       "      <th>0</th>\n",
       "      <td>2200006</td>\n",
       "      <td>得意先_1</td>\n",
       "      <td>A　2023年3月号 定期演奏会</td>\n",
       "      <td>['本文1']</td>\n",
       "    </tr>\n",
       "    <tr>\n",
       "      <th>1</th>\n",
       "      <td>2107551</td>\n",
       "      <td>得意先_7</td>\n",
       "      <td>アーティストリスト2022年</td>\n",
       "      <td>['本文1', '本文1', '本文2', '本文2', '表紙1', '表紙1']</td>\n",
       "    </tr>\n",
       "    <tr>\n",
       "      <th>2</th>\n",
       "      <td>2200898</td>\n",
       "      <td>得意先_8</td>\n",
       "      <td>ミュージアムリーフレット</td>\n",
       "      <td>['本文']</td>\n",
       "    </tr>\n",
       "    <tr>\n",
       "      <th>3</th>\n",
       "      <td>2202767</td>\n",
       "      <td>得意先_148</td>\n",
       "      <td>A小学校　2024学校案内パンフレット</td>\n",
       "      <td>['本文1', '本文2', '表紙1', '表紙2']</td>\n",
       "    </tr>\n",
       "    <tr>\n",
       "      <th>4</th>\n",
       "      <td>2203087</td>\n",
       "      <td>得意先_14</td>\n",
       "      <td>A社統合報告書2022（英文）</td>\n",
       "      <td>['本文1', '表紙1']</td>\n",
       "    </tr>\n",
       "  </tbody>\n",
       "</table>\n",
       "</div>"
      ],
      "text/plain": [
       "   order_id order_customer_name         product_name  \\\n",
       "0   2200006               得意先_1     A　2023年3月号 定期演奏会   \n",
       "1   2107551               得意先_7       アーティストリスト2022年   \n",
       "2   2200898               得意先_8         ミュージアムリーフレット   \n",
       "3   2202767             得意先_148  A小学校　2024学校案内パンフレット   \n",
       "4   2203087              得意先_14      A社統合報告書2022（英文）   \n",
       "\n",
       "                               part_type_name  \n",
       "0                                     ['本文1']  \n",
       "1  ['本文1', '本文1', '本文2', '本文2', '表紙1', '表紙1']  \n",
       "2                                      ['本文']  \n",
       "3                ['本文1', '本文2', '表紙1', '表紙2']  \n",
       "4                              ['本文1', '表紙1']  "
      ]
     },
     "execution_count": 3,
     "metadata": {},
     "output_type": "execute_result"
    }
   ],
   "source": [
    "df = df[['order_id', 'order_customer_name', 'product_name', 'part_type_name']]\n",
    "df.head()"
   ]
  },
  {
   "cell_type": "code",
   "execution_count": 4,
   "metadata": {},
   "outputs": [],
   "source": [
    "df[\"text\"] = df[\"product_name\"] + \" \" + df[\"part_type_name\"]"
   ]
  },
  {
   "cell_type": "code",
   "execution_count": 5,
   "metadata": {},
   "outputs": [
    {
     "name": "stderr",
     "output_type": "stream",
     "text": [
      "INFO:sentence_transformers.SentenceTransformer:Use pytorch device_name: cpu\n",
      "INFO:sentence_transformers.SentenceTransformer:Load pretrained SentenceTransformer: intfloat/multilingual-e5-small\n",
      "Batches: 100%|██████████| 4/4 [00:00<00:00,  4.48it/s]"
     ]
    },
    {
     "name": "stdout",
     "output_type": "stream",
     "text": [
      "Encoding time: 0.8993 seconds\n",
      "Memory usage: 791.04 MB\n"
     ]
    },
    {
     "name": "stderr",
     "output_type": "stream",
     "text": [
      "\n"
     ]
    }
   ],
   "source": [
    "model = SentenceTransformer(\"intfloat/multilingual-e5-small\")\n",
    "texts = [\"query: \" + text for text in df[\"text\"]]\n",
    "\n",
    "start = timer()\n",
    "embeddings = model.encode(texts, convert_to_numpy=True)\n",
    "end = timer()\n",
    "\n",
    "process = psutil.Process()\n",
    "mem_mb = process.memory_info().rss / 1024**2\n",
    "print(f\"Encoding time: {end - start:.4f} seconds\")\n",
    "print(f\"Memory usage: {mem_mb:.2f} MB\")"
   ]
  },
  {
   "cell_type": "code",
   "execution_count": 6,
   "metadata": {},
   "outputs": [],
   "source": [
    "df['embedding'] = embeddings.tolist()"
   ]
  },
  {
   "cell_type": "code",
   "execution_count": 7,
   "metadata": {},
   "outputs": [],
   "source": [
    "flag = True\n",
    "if flag:\n",
    "    df.to_csv(os.path.join(os.getcwd(), 'Data', 'output_search_DB_embedded.csv'), index=False, sep=',', encoding='utf-8')\n",
    "else:\n",
    "    df = pd.read_csv(os.path.join(os.getcwd(), 'Data', 'output_search_DB_embedded.csv'), sep=',', encoding='utf-8')\n",
    "    df['embedding'] = df['embedding'].apply(eval).apply(lambda x: [float(i) for i in x])"
   ]
  },
  {
   "cell_type": "code",
   "execution_count": 8,
   "metadata": {},
   "outputs": [
    {
     "name": "stdout",
     "output_type": "stream",
     "text": [
      "<class 'pandas.core.frame.DataFrame'>\n",
      "RangeIndex: 98 entries, 0 to 97\n",
      "Data columns (total 6 columns):\n",
      " #   Column               Non-Null Count  Dtype \n",
      "---  ------               --------------  ----- \n",
      " 0   order_id             98 non-null     int64 \n",
      " 1   order_customer_name  98 non-null     object\n",
      " 2   product_name         98 non-null     object\n",
      " 3   part_type_name       98 non-null     object\n",
      " 4   text                 98 non-null     object\n",
      " 5   embedding            98 non-null     object\n",
      "dtypes: int64(1), object(5)\n",
      "memory usage: 4.7+ KB\n"
     ]
    }
   ],
   "source": [
    "df.info()"
   ]
  },
  {
   "cell_type": "code",
   "execution_count": 9,
   "metadata": {},
   "outputs": [],
   "source": [
    "flag = True\n",
    "if flag:\n",
    "    target = 1000000\n",
    "    n = math.ceil(target / len(df))\n",
    "    df = pd.concat([df] * n, ignore_index=True)"
   ]
  },
  {
   "cell_type": "code",
   "execution_count": 10,
   "metadata": {},
   "outputs": [],
   "source": [
    "df['order_id'] = range(1, len(df) + 1)"
   ]
  },
  {
   "cell_type": "code",
   "execution_count": 11,
   "metadata": {},
   "outputs": [],
   "source": [
    "data = []\n",
    "for i, row in df.iterrows():\n",
    "    data.append({\"__id__\": str(row[\"order_id\"]), \"__vector__\": np.array(row[\"embedding\"]),\"customer_name\": row[\"order_customer_name\"], \"product_name\": row[\"product_name\"], \"part_type_name\": row[\"part_type_name\"], \"text\": row[\"text\"]})"
   ]
  },
  {
   "cell_type": "code",
   "execution_count": 12,
   "metadata": {},
   "outputs": [
    {
     "data": {
      "text/plain": [
       "array([ 0.08686243,  0.00368898,  0.00107138, -0.04675761,  0.07198764,\n",
       "       -0.02520897,  0.02125641,  0.05702867,  0.03563521, -0.01163542,\n",
       "        0.04603251, -0.00130556,  0.06788292,  0.00074451, -0.017533  ,\n",
       "        0.03457747,  0.06847565, -0.01766942, -0.07427671, -0.05218086,\n",
       "        0.04559273,  0.0328599 , -0.02091267,  0.01830516,  0.0755232 ,\n",
       "        0.02460371, -0.03933692,  0.02722863,  0.07450794, -0.04297682,\n",
       "       -0.06388988, -0.0423326 ,  0.06619136, -0.06336074,  0.0824189 ,\n",
       "        0.00977511, -0.02668929, -0.03663327,  0.02967907, -0.00038882,\n",
       "       -0.0142074 , -0.03371827,  0.06482528,  0.09704196,  0.05591549,\n",
       "        0.10494497, -0.00350834,  0.03642689, -0.05414964, -0.0150751 ,\n",
       "       -0.02350223,  0.05187542,  0.02454915,  0.05164273, -0.00728966,\n",
       "       -0.05077475, -0.00479663, -0.05072277, -0.07437301, -0.02091098,\n",
       "        0.10358013, -0.01892507,  0.03842646,  0.05637784,  0.08835746,\n",
       "        0.0169538 ,  0.02478359,  0.02163713, -0.07780316, -0.0272871 ,\n",
       "       -0.04945471,  0.04115295, -0.05763042, -0.04551565,  0.01333096,\n",
       "        0.04123857,  0.04676542, -0.03075935,  0.00081901, -0.06880091,\n",
       "       -0.07686164, -0.05203983, -0.04730228,  0.01828866, -0.0516974 ,\n",
       "        0.08304902,  0.04367891, -0.06710047,  0.06010607, -0.01525407,\n",
       "        0.05110394,  0.05751609, -0.07173036, -0.05650787, -0.0537857 ,\n",
       "       -0.07934195, -0.03367277,  0.06222737,  0.0665813 , -0.02782977,\n",
       "        0.05108505, -0.07440151,  0.05897566, -0.09274152, -0.04218686,\n",
       "        0.03850228,  0.01450017, -0.10619859,  0.04692587, -0.06151307,\n",
       "       -0.02422255,  0.05231515,  0.03210977,  0.08065361, -0.06935262,\n",
       "       -0.06695847,  0.00754441, -0.08450867,  0.07472215, -0.03456332,\n",
       "        0.05164145,  0.0021134 , -0.08536846, -0.08514121, -0.0564034 ,\n",
       "       -0.02162262,  0.01307265,  0.06310111,  0.02408328,  0.02883791,\n",
       "        0.01577057,  0.06469336,  0.03263835,  0.06881563,  0.02952742,\n",
       "        0.07334765, -0.05758992, -0.03141094, -0.02363539, -0.01675803,\n",
       "       -0.03821826,  0.00956615, -0.03290259,  0.06870745,  0.00217035,\n",
       "        0.0408171 ,  0.10617207, -0.0480463 ,  0.05739024,  0.01361508,\n",
       "        0.07787712, -0.05971978,  0.05955944,  0.03169215,  0.05032678,\n",
       "       -0.00653149, -0.03124974, -0.05743159,  0.03752476,  0.06351941,\n",
       "       -0.08728362, -0.07191328, -0.09164775, -0.03743134, -0.02160567,\n",
       "       -0.0695608 ,  0.0649101 ,  0.087093  ,  0.0038706 , -0.04061033,\n",
       "       -0.04163186,  0.06299359, -0.08839405,  0.04036084, -0.00310028,\n",
       "        0.03197498, -0.06715793,  0.01615163,  0.05790608,  0.07486672,\n",
       "       -0.03429706, -0.00574351, -0.09761082, -0.05995958, -0.07405441,\n",
       "       -0.06151415, -0.05257883,  0.04118322,  0.00988073, -0.00740413,\n",
       "       -0.03690827,  0.02559334, -0.06173626, -0.04777674, -0.00344002,\n",
       "        0.03453939, -0.03850048,  0.04079306,  0.05136648,  0.06364024,\n",
       "       -0.05470414, -0.04996169,  0.05938046,  0.04879104,  0.08823685,\n",
       "       -0.03987325, -0.1189281 ,  0.0584356 , -0.03158629,  0.04604223,\n",
       "        0.04500993, -0.07510442, -0.06388357,  0.08936495, -0.07879849,\n",
       "       -0.00088786,  0.02476939,  0.01922398, -0.0412427 ,  0.05865794,\n",
       "        0.07289249, -0.00716355,  0.02474234, -0.09676154, -0.00877708,\n",
       "        0.04320548,  0.07175666, -0.05619636, -0.02799271,  0.02076481,\n",
       "        0.00847612, -0.01440106, -0.03031028, -0.02558076,  0.00111191,\n",
       "       -0.03569869, -0.0158422 ,  0.02736272,  0.08504065, -0.04667431,\n",
       "       -0.02433788, -0.01268743,  0.06467209, -0.05930597,  0.04460025,\n",
       "       -0.04676352, -0.02603744,  0.03746423, -0.05373752,  0.007921  ,\n",
       "        0.0279511 , -0.07800908, -0.0525617 , -0.07942873, -0.05921626,\n",
       "       -0.00580446,  0.07285794,  0.08402418, -0.09432747,  0.02713055,\n",
       "        0.03996205, -0.01947507,  0.12645991, -0.00673364,  0.04377402,\n",
       "        0.04320035, -0.05792348, -0.01555504, -0.07694997, -0.06129261,\n",
       "       -0.04528704,  0.03377818,  0.01058168, -0.02479897, -0.05532151,\n",
       "       -0.04538151, -0.01399616,  0.09721269, -0.04807547, -0.01868414,\n",
       "        0.04739461,  0.04680703,  0.03671453,  0.03223265,  0.04424956,\n",
       "       -0.01582359, -0.0287573 ,  0.07625892, -0.05617879, -0.02035055,\n",
       "       -0.0537078 , -0.03476763,  0.0519585 , -0.05133795,  0.07565476,\n",
       "        0.02323083, -0.01263956,  0.0586515 , -0.05596286,  0.01565814,\n",
       "       -0.04926072, -0.01630148,  0.0477861 ,  0.01513593, -0.05768131,\n",
       "        0.00350765,  0.006712  ,  0.02668766,  0.00924983,  0.00957707,\n",
       "        0.05454   ,  0.03489609, -0.07839927, -0.01760861,  0.07860617,\n",
       "        0.02044629, -0.00476286,  0.04635361, -0.04995363, -0.03556728,\n",
       "       -0.05120017, -0.04453007, -0.04950226, -0.05744484,  0.00599754,\n",
       "        0.07874143, -0.08205764, -0.0461154 ,  0.02286464, -0.00834904,\n",
       "        0.05041389, -0.11679451, -0.07847575,  0.05448074, -0.05712562,\n",
       "       -0.08423243, -0.03984549,  0.02456315, -0.05058764,  0.00571725,\n",
       "        0.05982265,  0.06691043, -0.04362988,  0.03568561, -0.02930992,\n",
       "       -0.03112785,  0.0372313 , -0.01479403, -0.03529187,  0.07073922,\n",
       "       -0.00878167, -0.05372031,  0.00224417,  0.04273487, -0.05033007,\n",
       "        0.00175443, -0.03414294, -0.01172487,  0.04618286,  0.0351288 ,\n",
       "       -0.02361195,  0.0010933 ,  0.05341638,  0.01296824,  0.02636617,\n",
       "        0.06009487,  0.00070381, -0.00869947,  0.06947076, -0.02172654,\n",
       "        0.01923673,  0.07374734, -0.06503137, -0.01832501, -0.0349759 ,\n",
       "       -0.01082516, -0.05022593,  0.03891637, -0.07578792, -0.07636531,\n",
       "        0.05146696,  0.02567097,  0.05079883,  0.05151897], dtype=float32)"
      ]
     },
     "execution_count": 12,
     "metadata": {},
     "output_type": "execute_result"
    }
   ],
   "source": [
    "embeddings[1]"
   ]
  },
  {
   "cell_type": "code",
   "execution_count": 13,
   "metadata": {},
   "outputs": [
    {
     "name": "stdout",
     "output_type": "stream",
     "text": [
      "Number of records: 1000090\n"
     ]
    }
   ],
   "source": [
    "print(f\"Number of records: {len(data)}\")"
   ]
  },
  {
   "cell_type": "code",
   "execution_count": 14,
   "metadata": {},
   "outputs": [
    {
     "name": "stderr",
     "output_type": "stream",
     "text": [
      "INFO:nano-vectordb:Init {'embedding_dim': 384, 'metric': 'cosine', 'storage_file': 'orders.json'} 0 data\n"
     ]
    }
   ],
   "source": [
    "vdb = NanoVectorDB(embedding_dim=embeddings.shape[1], storage_file=\"orders.json\")"
   ]
  },
  {
   "cell_type": "code",
   "execution_count": 15,
   "metadata": {},
   "outputs": [
    {
     "name": "stdout",
     "output_type": "stream",
     "text": [
      "Upsert time: 14.6476 seconds\n",
      "Memory usage: 2798.24 MB\n"
     ]
    }
   ],
   "source": [
    "start = timer()\n",
    "vdb.upsert(data) \n",
    "end = timer()\n",
    "\n",
    "process = psutil.Process()\n",
    "mem_mb = process.memory_info().rss / 1024**2\n",
    "print(f\"Upsert time: {end - start:.4f} seconds\")\n",
    "print(f\"Memory usage: {mem_mb:.2f} MB\")"
   ]
  },
  {
   "cell_type": "code",
   "execution_count": 16,
   "metadata": {},
   "outputs": [
    {
     "name": "stderr",
     "output_type": "stream",
     "text": [
      "Batches: 100%|██████████| 1/1 [00:00<00:00, 27.27it/s]"
     ]
    },
    {
     "name": "stdout",
     "output_type": "stream",
     "text": [
      "Query time: 0.1386 seconds\n",
      "Memory usage: 2742.62 MB\n"
     ]
    },
    {
     "name": "stderr",
     "output_type": "stream",
     "text": [
      "\n"
     ]
    }
   ],
   "source": [
    "query = \"ーセプル\"\n",
    "query_embedding = model.encode([\"query: \" + query], convert_to_numpy=True)[0]\n",
    "\n",
    "start = timer()\n",
    "results = vdb.query(query_embedding, top_k=5, better_than_threshold=0.1)\n",
    "end = timer()\n",
    "process = psutil.Process()\n",
    "mem_mb = process.memory_info().rss / 1024**2\n",
    "\n",
    "print(f\"Query time: {end - start:.4f} seconds\")\n",
    "print(f\"Memory usage: {mem_mb:.2f} MB\")"
   ]
  },
  {
   "cell_type": "code",
   "execution_count": 17,
   "metadata": {},
   "outputs": [
    {
     "name": "stdout",
     "output_type": "stream",
     "text": [
      "ID: 631074, Customer Name: 得意先_200, Product Name: hoge一括（2023年3月）※デザイン型変更あり, Part Type Name: ['本文1'], Score: 0.8355\n",
      "ID: 887736, Customer Name: 得意先_200, Product Name: hoge一括（2023年3月）※デザイン型変更あり, Part Type Name: ['本文1'], Score: 0.8355\n",
      "ID: 398030, Customer Name: 得意先_200, Product Name: hoge一括（2023年3月）※デザイン型変更あり, Part Type Name: ['本文1'], Score: 0.8355\n",
      "ID: 455556, Customer Name: 得意先_200, Product Name: hoge一括（2023年3月）※デザイン型変更あり, Part Type Name: ['本文1'], Score: 0.8355\n",
      "ID: 359908, Customer Name: 得意先_200, Product Name: hoge一括（2023年3月）※デザイン型変更あり, Part Type Name: ['本文1'], Score: 0.8355\n"
     ]
    }
   ],
   "source": [
    "for result in results:\n",
    "    print(f\"ID: {result['__id__']}, Customer Name: {result['customer_name']}, Product Name: {result['product_name']}, Part Type Name: {result['part_type_name']}, Score: {result['__metrics__']:.4f}\")"
   ]
  }
 ],
 "metadata": {
  "kernelspec": {
   "display_name": "Fuzzywuzzy",
   "language": "python",
   "name": "python3"
  },
  "language_info": {
   "codemirror_mode": {
    "name": "ipython",
    "version": 3
   },
   "file_extension": ".py",
   "mimetype": "text/x-python",
   "name": "python",
   "nbconvert_exporter": "python",
   "pygments_lexer": "ipython3",
   "version": "3.12.10"
  }
 },
 "nbformat": 4,
 "nbformat_minor": 2
}
