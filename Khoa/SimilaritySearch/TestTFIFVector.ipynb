{
 "cells": [
  {
   "cell_type": "code",
   "execution_count": 1,
   "id": "8b468b06",
   "metadata": {},
   "outputs": [],
   "source": [
    "import pandas as pd\n",
    "from sklearn.feature_extraction.text import TfidfVectorizer\n",
    "from sklearn.metrics.pairwise import cosine_similarity\n",
    "import os"
   ]
  },
  {
   "cell_type": "code",
   "execution_count": 2,
   "id": "a7a7125a",
   "metadata": {},
   "outputs": [
    {
     "data": {
      "text/html": [
       "<div>\n",
       "<style scoped>\n",
       "    .dataframe tbody tr th:only-of-type {\n",
       "        vertical-align: middle;\n",
       "    }\n",
       "\n",
       "    .dataframe tbody tr th {\n",
       "        vertical-align: top;\n",
       "    }\n",
       "\n",
       "    .dataframe thead th {\n",
       "        text-align: right;\n",
       "    }\n",
       "</style>\n",
       "<table border=\"1\" class=\"dataframe\">\n",
       "  <thead>\n",
       "    <tr style=\"text-align: right;\">\n",
       "      <th></th>\n",
       "      <th>order_id</th>\n",
       "      <th>order_customer_name</th>\n",
       "      <th>product_name</th>\n",
       "      <th>part_type_name</th>\n",
       "    </tr>\n",
       "  </thead>\n",
       "  <tbody>\n",
       "    <tr>\n",
       "      <th>0</th>\n",
       "      <td>2200006</td>\n",
       "      <td>得意先_1</td>\n",
       "      <td>A　2023年3月号 定期演奏会</td>\n",
       "      <td>['本文1']</td>\n",
       "    </tr>\n",
       "    <tr>\n",
       "      <th>1</th>\n",
       "      <td>2107551</td>\n",
       "      <td>得意先_7</td>\n",
       "      <td>アーティストリスト2022年</td>\n",
       "      <td>['本文1', '本文1', '本文2', '本文2', '表紙1', '表紙1']</td>\n",
       "    </tr>\n",
       "    <tr>\n",
       "      <th>2</th>\n",
       "      <td>2200898</td>\n",
       "      <td>得意先_8</td>\n",
       "      <td>ミュージアムリーフレット</td>\n",
       "      <td>['本文']</td>\n",
       "    </tr>\n",
       "    <tr>\n",
       "      <th>3</th>\n",
       "      <td>2202767</td>\n",
       "      <td>得意先_148</td>\n",
       "      <td>A小学校　2024学校案内パンフレット</td>\n",
       "      <td>['本文1', '本文2', '表紙1', '表紙2']</td>\n",
       "    </tr>\n",
       "    <tr>\n",
       "      <th>4</th>\n",
       "      <td>2203087</td>\n",
       "      <td>得意先_14</td>\n",
       "      <td>A社統合報告書2022（英文）</td>\n",
       "      <td>['本文1', '表紙1']</td>\n",
       "    </tr>\n",
       "  </tbody>\n",
       "</table>\n",
       "</div>"
      ],
      "text/plain": [
       "   order_id order_customer_name         product_name  \\\n",
       "0   2200006               得意先_1     A　2023年3月号 定期演奏会   \n",
       "1   2107551               得意先_7       アーティストリスト2022年   \n",
       "2   2200898               得意先_8         ミュージアムリーフレット   \n",
       "3   2202767             得意先_148  A小学校　2024学校案内パンフレット   \n",
       "4   2203087              得意先_14      A社統合報告書2022（英文）   \n",
       "\n",
       "                               part_type_name  \n",
       "0                                     ['本文1']  \n",
       "1  ['本文1', '本文1', '本文2', '本文2', '表紙1', '表紙1']  \n",
       "2                                      ['本文']  \n",
       "3                ['本文1', '本文2', '表紙1', '表紙2']  \n",
       "4                              ['本文1', '表紙1']  "
      ]
     },
     "execution_count": 2,
     "metadata": {},
     "output_type": "execute_result"
    }
   ],
   "source": [
    "path = os.path.join(os.getcwd(), 'Data', 'input_search_DB.csv')\n",
    "df = pd.read_csv(path)\n",
    "df = df[['order_id', 'order_customer_name', 'product_name', 'part_type_name']]\n",
    "df.head()"
   ]
  },
  {
   "cell_type": "code",
   "execution_count": 3,
   "id": "26c09e67",
   "metadata": {},
   "outputs": [
    {
     "name": "stdout",
     "output_type": "stream",
     "text": [
      "<class 'pandas.core.frame.DataFrame'>\n",
      "RangeIndex: 98 entries, 0 to 97\n",
      "Data columns (total 4 columns):\n",
      " #   Column               Non-Null Count  Dtype \n",
      "---  ------               --------------  ----- \n",
      " 0   order_id             98 non-null     int64 \n",
      " 1   order_customer_name  98 non-null     object\n",
      " 2   product_name         98 non-null     object\n",
      " 3   part_type_name       98 non-null     object\n",
      "dtypes: int64(1), object(3)\n",
      "memory usage: 3.2+ KB\n"
     ]
    }
   ],
   "source": [
    "df.info()"
   ]
  },
  {
   "cell_type": "code",
   "execution_count": 4,
   "id": "c907bc10",
   "metadata": {},
   "outputs": [],
   "source": [
    "sample_row = pd.Series({'order_id': 2204908, 'order_customer_name': '得意先_8', 'product_name': '「ABS」展B2ポスター', 'part_type_name': '[本文1, 本文2, 表紙1, 表紙2]'})\n",
    "\n",
    "df_with_sample = pd.concat([df, sample_row.to_frame().T], ignore_index=True)"
   ]
  },
  {
   "cell_type": "code",
   "execution_count": 5,
   "id": "68977c38",
   "metadata": {},
   "outputs": [
    {
     "data": {
      "text/html": [
       "<div>\n",
       "<style scoped>\n",
       "    .dataframe tbody tr th:only-of-type {\n",
       "        vertical-align: middle;\n",
       "    }\n",
       "\n",
       "    .dataframe tbody tr th {\n",
       "        vertical-align: top;\n",
       "    }\n",
       "\n",
       "    .dataframe thead th {\n",
       "        text-align: right;\n",
       "    }\n",
       "</style>\n",
       "<table border=\"1\" class=\"dataframe\">\n",
       "  <thead>\n",
       "    <tr style=\"text-align: right;\">\n",
       "      <th></th>\n",
       "      <th>order_id</th>\n",
       "      <th>order_customer_name</th>\n",
       "      <th>product_name</th>\n",
       "      <th>part_type_name</th>\n",
       "    </tr>\n",
       "  </thead>\n",
       "  <tbody>\n",
       "    <tr>\n",
       "      <th>98</th>\n",
       "      <td>2204908</td>\n",
       "      <td>得意先_8</td>\n",
       "      <td>「ABS」展B2ポスター</td>\n",
       "      <td>[本文1, 本文2, 表紙1, 表紙2]</td>\n",
       "    </tr>\n",
       "  </tbody>\n",
       "</table>\n",
       "</div>"
      ],
      "text/plain": [
       "   order_id order_customer_name  product_name        part_type_name\n",
       "98  2204908               得意先_8  「ABS」展B2ポスター  [本文1, 本文2, 表紙1, 表紙2]"
      ]
     },
     "execution_count": 5,
     "metadata": {},
     "output_type": "execute_result"
    }
   ],
   "source": [
    "df_with_sample.loc[df_with_sample['order_id'] == 2204908]"
   ]
  },
  {
   "cell_type": "code",
   "execution_count": 6,
   "id": "05379396",
   "metadata": {},
   "outputs": [],
   "source": [
    "vectorizer = TfidfVectorizer()\n",
    "tfidf_matrix = vectorizer.fit_transform(df_with_sample['product_name'])\n",
    "cosine_similarities = cosine_similarity(tfidf_matrix[-1:], tfidf_matrix[:-1]).flatten()\n",
    "df['similarity'] = cosine_similarities"
   ]
  },
  {
   "cell_type": "code",
   "execution_count": 7,
   "id": "092df5bf",
   "metadata": {},
   "outputs": [
    {
     "data": {
      "text/html": [
       "<div>\n",
       "<style scoped>\n",
       "    .dataframe tbody tr th:only-of-type {\n",
       "        vertical-align: middle;\n",
       "    }\n",
       "\n",
       "    .dataframe tbody tr th {\n",
       "        vertical-align: top;\n",
       "    }\n",
       "\n",
       "    .dataframe thead th {\n",
       "        text-align: right;\n",
       "    }\n",
       "</style>\n",
       "<table border=\"1\" class=\"dataframe\">\n",
       "  <thead>\n",
       "    <tr style=\"text-align: right;\">\n",
       "      <th></th>\n",
       "      <th>order_id</th>\n",
       "      <th>order_customer_name</th>\n",
       "      <th>product_name</th>\n",
       "      <th>part_type_name</th>\n",
       "      <th>similarity</th>\n",
       "    </tr>\n",
       "  </thead>\n",
       "  <tbody>\n",
       "    <tr>\n",
       "      <th>40</th>\n",
       "      <td>2204439</td>\n",
       "      <td>得意先_152</td>\n",
       "      <td>「ABS」展B2ポスター</td>\n",
       "      <td>['再校', '再校', '初校', '本文1']</td>\n",
       "      <td>1.000000</td>\n",
       "    </tr>\n",
       "    <tr>\n",
       "      <th>41</th>\n",
       "      <td>2204440</td>\n",
       "      <td>得意先_152</td>\n",
       "      <td>「ABS」展チラシ</td>\n",
       "      <td>['再校', '再校', '初校', '本文1']</td>\n",
       "      <td>0.467065</td>\n",
       "    </tr>\n",
       "    <tr>\n",
       "      <th>2</th>\n",
       "      <td>2200898</td>\n",
       "      <td>得意先_8</td>\n",
       "      <td>ミュージアムリーフレット</td>\n",
       "      <td>['本文']</td>\n",
       "      <td>0.000000</td>\n",
       "    </tr>\n",
       "    <tr>\n",
       "      <th>3</th>\n",
       "      <td>2202767</td>\n",
       "      <td>得意先_148</td>\n",
       "      <td>A小学校　2024学校案内パンフレット</td>\n",
       "      <td>['本文1', '本文2', '表紙1', '表紙2']</td>\n",
       "      <td>0.000000</td>\n",
       "    </tr>\n",
       "    <tr>\n",
       "      <th>4</th>\n",
       "      <td>2203087</td>\n",
       "      <td>得意先_14</td>\n",
       "      <td>A社統合報告書2022（英文）</td>\n",
       "      <td>['本文1', '表紙1']</td>\n",
       "      <td>0.000000</td>\n",
       "    </tr>\n",
       "  </tbody>\n",
       "</table>\n",
       "</div>"
      ],
      "text/plain": [
       "    order_id order_customer_name         product_name  \\\n",
       "40   2204439             得意先_152         「ABS」展B2ポスター   \n",
       "41   2204440             得意先_152            「ABS」展チラシ   \n",
       "2    2200898               得意先_8         ミュージアムリーフレット   \n",
       "3    2202767             得意先_148  A小学校　2024学校案内パンフレット   \n",
       "4    2203087              得意先_14      A社統合報告書2022（英文）   \n",
       "\n",
       "                  part_type_name  similarity  \n",
       "40     ['再校', '再校', '初校', '本文1']    1.000000  \n",
       "41     ['再校', '再校', '初校', '本文1']    0.467065  \n",
       "2                         ['本文']    0.000000  \n",
       "3   ['本文1', '本文2', '表紙1', '表紙2']    0.000000  \n",
       "4                 ['本文1', '表紙1']    0.000000  "
      ]
     },
     "execution_count": 7,
     "metadata": {},
     "output_type": "execute_result"
    }
   ],
   "source": [
    "result_df = df.sort_values(by='similarity', ascending=False).head(5)\n",
    "result_df.head()"
   ]
  }
 ],
 "metadata": {
  "kernelspec": {
   "display_name": "Fuzzywuzzy",
   "language": "python",
   "name": "python3"
  },
  "language_info": {
   "codemirror_mode": {
    "name": "ipython",
    "version": 3
   },
   "file_extension": ".py",
   "mimetype": "text/x-python",
   "name": "python",
   "nbconvert_exporter": "python",
   "pygments_lexer": "ipython3",
   "version": "3.12.10"
  }
 },
 "nbformat": 4,
 "nbformat_minor": 5
}
